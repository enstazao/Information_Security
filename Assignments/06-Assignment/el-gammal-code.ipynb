{
 "cells": [
  {
   "cell_type": "markdown",
   "metadata": {},
   "source": [
    "# ElGamal Encryption and Decryption\n",
    "\n",
    "- **Key Generation:** Generate public and private keys:\n",
    "  - Choose a prime `p` and a generator `α`.\n",
    "  - Select a private key `dA` and compute the public key `βA`.\n",
    "\n",
    "- **Encryption (Bob):** Securely send a message `B` to Alice:\n",
    "  - Generate a random `k`.\n",
    "  - Calculate `r` and `t` using modular exponentiation.\n",
    "\n",
    "- **Decryption (Alice):** Receive and decrypt the message:\n",
    "  - Use the private key `dA` to calculate `r^(-dA)`.\n",
    "  - Multiply `t` by `r^(-dA)` to reveal the original message.\n"
   ]
  },
  {
   "cell_type": "markdown",
   "metadata": {},
   "source": [
    "## Modular Exponentiation"
   ]
  },
  {
   "cell_type": "code",
   "execution_count": 1,
   "metadata": {},
   "outputs": [],
   "source": [
    "def mod_exp(α, k, p):\n",
    "    result = 1\n",
    "    α %= p\n",
    "\n",
    "    while k > 0:\n",
    "        if k % 2 == 1:\n",
    "            result = (result * α) % p\n",
    "        k //= 2\n",
    "        α = (α * α) % p\n",
    "\n",
    "    return result"
   ]
  },
  {
   "cell_type": "markdown",
   "metadata": {},
   "source": [
    "## Elgamal Encryption"
   ]
  },
  {
   "cell_type": "code",
   "execution_count": 2,
   "metadata": {},
   "outputs": [],
   "source": [
    "# Function to encrypt a message using ElGamal\n",
    "def elgamal_encrypt(message, α, β, p, k):\n",
    "    c1 = mod_exp(α, k, p)\n",
    "    c2 = (mod_exp(β, k, p) * message) % p\n",
    "    return c1, c2"
   ]
  },
  {
   "cell_type": "markdown",
   "metadata": {},
   "source": [
    "## Elgamal Decryption"
   ]
  },
  {
   "cell_type": "code",
   "execution_count": 3,
   "metadata": {},
   "outputs": [],
   "source": [
    "# Function to decrypt a message using ElGamal\n",
    "def elgamal_decrypt(ciphertext, dA, p):\n",
    "    r, t = ciphertext\n",
    "    inverse_r = mod_exp(r, p - 1 - dA, p)\n",
    "    decrypted_message = (t * inverse_r) % p\n",
    "    return decrypted_message\n"
   ]
  },
  {
   "cell_type": "markdown",
   "metadata": {},
   "source": [
    "## Demo"
   ]
  },
  {
   "cell_type": "code",
   "execution_count": 4,
   "metadata": {},
   "outputs": [],
   "source": [
    "# Parameters\n",
    "prime_number = 107           # prime number (p)\n",
    "generator = 2             # geenrator (g)\n",
    "private_key = 67            # Private Key (a)\n",
    "public_key = generator ** private_key % prime_number # public key  # e"
   ]
  },
  {
   "cell_type": "code",
   "execution_count": 5,
   "metadata": {},
   "outputs": [],
   "source": [
    "# Encryption\n",
    "k = 45          # random number\n",
    "message_B = 66  # ASCII value of \"B\""
   ]
  },
  {
   "cell_type": "code",
   "execution_count": 6,
   "metadata": {},
   "outputs": [
    {
     "name": "stdout",
     "output_type": "stream",
     "text": [
      "(28, 9)\n"
     ]
    }
   ],
   "source": [
    "# Bob encrypts the message\n",
    "ciphertext = elgamal_encrypt(message_B, generator, public_key, prime_number, k)\n",
    "\n",
    "print(ciphertext)"
   ]
  },
  {
   "cell_type": "code",
   "execution_count": 7,
   "metadata": {},
   "outputs": [
    {
     "name": "stdout",
     "output_type": "stream",
     "text": [
      "Decrypted message: 66\n"
     ]
    }
   ],
   "source": [
    "# Alice decrypts the message\n",
    "decrypted_message = elgamal_decrypt(ciphertext, private_key, prime_number)\n",
    "\n",
    "print(f\"Decrypted message: {decrypted_message}\")"
   ]
  }
 ],
 "metadata": {
  "kernelspec": {
   "display_name": "Python 3",
   "language": "python",
   "name": "python3"
  },
  "language_info": {
   "codemirror_mode": {
    "name": "ipython",
    "version": 3
   },
   "file_extension": ".py",
   "mimetype": "text/x-python",
   "name": "python",
   "nbconvert_exporter": "python",
   "pygments_lexer": "ipython3",
   "version": "3.7.6"
  }
 },
 "nbformat": 4,
 "nbformat_minor": 4
}
