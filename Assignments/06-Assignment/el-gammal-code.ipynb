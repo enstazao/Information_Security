{
 "cells": [
  {
   "cell_type": "markdown",
   "metadata": {},
   "source": [
    "## ElGamal Public Key Encryption Algorithm"
   ]
  },
  {
   "cell_type": "code",
   "execution_count": 1,
   "metadata": {},
   "outputs": [],
   "source": [
    "def mod_exp(α, k, p):\n",
    "    result = 1\n",
    "    α %= p\n",
    "\n",
    "    while k > 0:\n",
    "        if k % 2 == 1:\n",
    "            result = (result * α) % p\n",
    "        k //= 2\n",
    "        α = (α * α) % p\n",
    "\n",
    "    return result"
   ]
  },
  {
   "cell_type": "code",
   "execution_count": 2,
   "metadata": {},
   "outputs": [],
   "source": [
    "# Function to encrypt a message using ElGamal\n",
    "def elgamal_encrypt(message, α, β, p, k):\n",
    "    r = mod_exp(α, k, p)\n",
    "    t = (mod_exp(β, k, p) * message) % p\n",
    "    return r, t"
   ]
  },
  {
   "cell_type": "code",
   "execution_count": 3,
   "metadata": {},
   "outputs": [],
   "source": [
    "# Function to decrypt a message using ElGamal\n",
    "def elgamal_decrypt(ciphertext, dA, p):\n",
    "    r, t = ciphertext\n",
    "    inverse_r = mod_exp(r, p - 1 - dA, p)\n",
    "    decrypted_message = (t * inverse_r) % p\n",
    "    return decrypted_message\n"
   ]
  },
  {
   "cell_type": "code",
   "execution_count": 4,
   "metadata": {},
   "outputs": [],
   "source": [
    "# Parameters\n",
    "pA = 107\n",
    "αA = 2\n",
    "dA = 67\n",
    "βA = αA ** dA % pA # βA = αA^dA % pA"
   ]
  },
  {
   "cell_type": "code",
   "execution_count": 5,
   "metadata": {},
   "outputs": [],
   "source": [
    "# Encryption\n",
    "k = 45\n",
    "message_B = 66  # ASCII value of \"B\""
   ]
  },
  {
   "cell_type": "code",
   "execution_count": 6,
   "metadata": {},
   "outputs": [
    {
     "name": "stdout",
     "output_type": "stream",
     "text": [
      "(28, 9)\n"
     ]
    }
   ],
   "source": [
    "# Bob encrypts the message\n",
    "ciphertext = elgamal_encrypt(message_B, αA, βA, pA, k)\n",
    "\n",
    "print(ciphertext)"
   ]
  },
  {
   "cell_type": "code",
   "execution_count": 7,
   "metadata": {},
   "outputs": [
    {
     "name": "stdout",
     "output_type": "stream",
     "text": [
      "Decrypted message: 66\n"
     ]
    }
   ],
   "source": [
    "# Alice decrypts the message\n",
    "decrypted_message = elgamal_decrypt(ciphertext, dA, pA)\n",
    "\n",
    "print(f\"Decrypted message: {decrypted_message}\")"
   ]
  },
  {
   "cell_type": "code",
   "execution_count": null,
   "metadata": {},
   "outputs": [],
   "source": []
  },
  {
   "cell_type": "code",
   "execution_count": null,
   "metadata": {},
   "outputs": [],
   "source": []
  }
 ],
 "metadata": {
  "kernelspec": {
   "display_name": "Python 3",
   "language": "python",
   "name": "python3"
  },
  "language_info": {
   "codemirror_mode": {
    "name": "ipython",
    "version": 3
   },
   "file_extension": ".py",
   "mimetype": "text/x-python",
   "name": "python",
   "nbconvert_exporter": "python",
   "pygments_lexer": "ipython3",
   "version": "3.7.6"
  }
 },
 "nbformat": 4,
 "nbformat_minor": 4
}
